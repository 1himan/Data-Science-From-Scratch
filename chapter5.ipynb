{
 "cells": [
  {
   "cell_type": "markdown",
   "id": "41c975c8-9d57-4e08-80f8-32301667ade5",
   "metadata": {},
   "source": [
    "# Statistics\n",
    "Statistics referes to the mathematics and techniques with which we understand data."
   ]
  },
  {
   "cell_type": "code",
   "execution_count": 34,
   "id": "5a6c156a-92e2-44e9-96d5-cb29c654c3ae",
   "metadata": {},
   "outputs": [],
   "source": [
    "from typing import List\n",
    "import math"
   ]
  },
  {
   "cell_type": "code",
   "execution_count": 35,
   "id": "da1acab5-bc0e-463d-b14e-50b0762c5719",
   "metadata": {},
   "outputs": [
    {
     "data": {
      "image/png": "[encoded data removed]",
      "text/plain": [
       "<Figure size 640x480 with 1 Axes>"
      ]
     },
     "metadata": {},
     "output_type": "display_data"
    }
   ],
   "source": [
    "from collections import Counter \n",
    "import matplotlib.pyplot as plt \n",
    "num_friends = [100.0,49,41,40,25,21,21,19,19,18,18,16,15,15,15,15,\n",
    "               14,14,13,13,13,13,12,12,11,10,10,10,10,10,10,10,10,\n",
    "               10,10,10,10,10,10,10,9,9,9,9,9,9,9,9,9,9,9,9,9,9,9,\n",
    "               9,9,9,8,8,8,8,8,8,8,8,8,8,8,8,8,7,7,7,7,7,7,7,7,7,7,\n",
    "               7,7,7,7,7,6,6,6,6,6,6,6,6,6,6,6,6,6,6,6,6,6,6,6,6,6,\n",
    "               6,5,5,5,5,5,5,5,5,5,5,5,5,5,5,5,5,5,4,4,4,4,4,4,4,4,\n",
    "               4,4,4,4,4,4,4,4,4,4,4,4,3,3,3,3,3,3,3,3,3,3,3,3,3,3,\n",
    "               3,3,3,3,3,3,2,2,2,2,2,2,2,2,2,2,2,2,2,2,2,2,2,1,1,1,\n",
    "               1,1,1,1,1,1,1,1,1,1,1,1,1,1,1,1,1,1,1]\n",
    "friend_counts = Counter(num_friends) \n",
    "xs = range(101)                         \n",
    "ys = [friend_counts[x] \n",
    "# largest value is 100 \n",
    "for x in xs]     # height is just # of friends \n",
    "plt.bar(xs, ys) \n",
    "plt.axis([0, 101, 0, 25]) \n",
    "plt.title(\"Histogram of Friend Counts\") \n",
    "plt.xlabel(\"# of friends\") \n",
    "plt.ylabel(\"# of people\") \n",
    "plt.show()"
   ]
  },
  {
   "cell_type": "code",
   "execution_count": 36,
   "id": "ae808ba3-7761-4351-b584-db3b4377ae5b",
   "metadata": {},
   "outputs": [
    {
     "name": "stdout",
     "output_type": "stream",
     "text": [
      "100.0\n",
      "1\n"
     ]
    }
   ],
   "source": [
    "nums_point=len(num_friends) \n",
    "# You're probably interested in largest and smallest value as well\n",
    "largest_value=max(num_friends)\n",
    "print(largest_value)\n",
    "smallest_num=min(num_friends)\n",
    "print(smallest_num)"
   ]
  },
  {
   "cell_type": "code",
   "execution_count": 37,
   "id": "69f5eb37-0606-4595-b1b4-e6d0f6272e77",
   "metadata": {},
   "outputs": [
    {
     "name": "stdout",
     "output_type": "stream",
     "text": [
      "100.0\n",
      "1\n"
     ]
    }
   ],
   "source": [
    "# Which are just special cases of wanting to know the values\n",
    "# in specific positions:\n",
    "sorted_values=sorted(num_friends)\n",
    "smallest_value=sorted_values[0]\n",
    "second_smallest_value=sorted_values[1]\n",
    "largest_value=sorted_values[-1]\n",
    "print(largest_value)\n",
    "print(smallest_value)"
   ]
  },
  {
   "cell_type": "code",
   "execution_count": 38,
   "id": "dd33117a-44f6-4cd1-8d95-359be08812b5",
   "metadata": {},
   "outputs": [
    {
     "name": "stdout",
     "output_type": "stream",
     "text": [
      "7.333333333333333\n"
     ]
    }
   ],
   "source": [
    "def mean(xs: List[float])->float:\n",
    "    return sum(xs)/len(xs)\n",
    "print(mean(num_friends))"
   ]
  },
  {
   "cell_type": "markdown",
   "id": "d3eff311-6656-4e43-b1cd-9b9a72b8b515",
   "metadata": {},
   "source": [
    "### Median"
   ]
  },
  {
   "cell_type": "code",
   "execution_count": 39,
   "id": "ff0fc39f-7ff2-46ec-87f1-f81653076489",
   "metadata": {},
   "outputs": [
    {
     "name": "stdout",
     "output_type": "stream",
     "text": [
      "6.0\n"
     ]
    }
   ],
   "source": [
    "# The underscore indicates that these are private functions,as they're \n",
    "# intended to be called by our median function not by other people\n",
    "# using our statistics library\n",
    "\n",
    "def _median_odd(xs: List[float])->float:\n",
    "    \"\"\"If len(xs) is odd, the median is the middle element\"\"\"\n",
    "    return sorted(xs)[len(xs)//2]\n",
    "\n",
    "def _median_even(xs:List[float])-> float:\n",
    "    \"\"\"If len(xs) is even, its the average of the middle 2 elements\"\"\"\n",
    "    sorted_xs=sorted(xs)\n",
    "    hi_midpoint=len(xs)//2\n",
    "    return (sorted_xs[hi_midpoint-1] + sorted_xs[hi_midpoint])/2\n",
    "\n",
    "def median(v:List[float])-> float:\n",
    "    \"\"\"Finds the 'middle-most' value of v\"\"\"\n",
    "    return _median_even(v) if len(v) %2 ==0 else _median_odd(v)\n",
    "\n",
    "assert median([1, 10, 2, 9, 5]) == 5 ,\"Values are not the same\"\n",
    "assert median([1, 9, 2, 10]) == (2 + 9) / 2 ,\"Values are not the same\"\n",
    "\n",
    "print(median(num_friends))"
   ]
  },
  {
   "cell_type": "markdown",
   "id": "fda1e9ae-37ba-4e55-a414-e82d475832f0",
   "metadata": {},
   "source": [
    "### Quantile\n",
    "\n",
    "A generalization of the median is the quantile, which represents the value under which a certain percentile of the data lies, the median represents the value under which 50% of the data lies."
   ]
  },
  {
   "cell_type": "code",
   "execution_count": 40,
   "id": "67d82b67-3935-4161-bbf8-60929f6f7ba3",
   "metadata": {},
   "outputs": [],
   "source": [
    "def quantile(xs: List[float], p: float) -> float:\n",
    "    \"\"\"Returns the pth-percentile value in x\"\"\"\n",
    "    p_index = int(p * len(xs))\n",
    "    return sorted(xs)[p_index]\n",
    "assert quantile(num_friends, 0.10) == 1\n",
    "assert quantile(num_friends, 0.25) == 3\n",
    "assert quantile(num_friends, 0.75) == 9\n",
    "assert quantile(num_friends, 0.90) == 13"
   ]
  },
  {
   "cell_type": "markdown",
   "id": "1c4bab6a-7674-44b7-823c-d82ba9081a82",
   "metadata": {},
   "source": [
    "Less commonly you might want to look at the mode, or most common value(s):"
   ]
  },
  {
   "cell_type": "code",
   "execution_count": 41,
   "id": "f1565a2a-c897-48ff-ba54-dc894f715cc7",
   "metadata": {},
   "outputs": [],
   "source": [
    "def mode(x: List[float]) -> List[float]:\n",
    "    \"\"\"Returns a list, since there might be more than one mode\"\"\"\n",
    "    counts = Counter(x)\n",
    "    max_count = max(counts.values())\n",
    "    return [x_i for x_i, count in counts.items()\n",
    "    if count == max_count]\n",
    "assert set(mode(num_friends)) == {1, 6}"
   ]
  },
  {
   "cell_type": "markdown",
   "id": "3d74d9ee-f27a-48d5-8b34-806931321ba2",
   "metadata": {},
   "source": [
    "### Dispersion\n",
    "\n",
    "Dispersion is a way of measuring how spread out the data is. These measures tell us how much the values in a dataset differ from each other. If the measure is close to zero, it means the data points are very close together, and if the value is large, it means the data points are more spread out. One simple way to measure this is by calculating the range, which is just the difference between the largest and smallest values in the data."
   ]
  },
  {
   "cell_type": "code",
   "execution_count": 42,
   "id": "d5652fbf-6c7a-4c50-b5bf-1ec7b63219d1",
   "metadata": {},
   "outputs": [],
   "source": [
    "def data_range(xs: List[float]) -> float:\n",
    "    return max(xs) - min(xs)\n",
    "assert data_range(num_friends) == 99"
   ]
  },
  {
   "cell_type": "markdown",
   "id": "5e1373ff-118a-46c0-bb69-75b10dbf2c53",
   "metadata": {},
   "source": [
    "The range is zero precisely when the max and min are equal, which can only\n",
    "happen if the elements of x are all the same, which means the data is as\n",
    "undispersed as possible. Conversely, if the range is large, then the max is\n",
    "much larger than the min and the data is more spread out.\n",
    "\n",
    "Like the median, the range doesn’t really depend on the whole dataset. A\n",
    "dataset whose points are all either 0 or 100 has the same range as a dataset\n",
    "whose values are 0, 100, and lots of 50s. But it seems like the first dataset\n",
    "“should” be more spread out."
   ]
  },
  {
   "cell_type": "markdown",
   "id": "49f805a2-49d4-4d58-b0a3-19a56d6362d9",
   "metadata": {},
   "source": [
    "A more complex measure of dispersion is the variance, which is computed as: "
   ]
  },
  {
   "cell_type": "code",
   "execution_count": 43,
   "id": "6ea0a2ab-d2c7-46e0-ac67-ddf1093b6304",
   "metadata": {},
   "outputs": [],
   "source": [
    "Vector = List[float]\n",
    "def sum_of_squares(v:Vector)->float:\n",
    "    \"\"\"Returns v_1 * v_1 + ... + v_n * v_n\"\"\"\n",
    "    return dot(v,v)\n",
    "\n",
    "def dot(v: Vector, w:Vector)-> float:\n",
    "    \"\"\"Computes v_1 * w_1 + ... + v_n * w_n\"\"\" \n",
    "    assert len(v)==len(w), \"vectors must be same lenght\"\n",
    "\n",
    "    return sum(v_i * w_i for v_i, w_i in zip(v, w))"
   ]
  },
  {
   "cell_type": "code",
   "execution_count": 55,
   "id": "6f362e39-fbb7-421f-9239-a15c4fbd6615",
   "metadata": {},
   "outputs": [
    {
     "name": "stdout",
     "output_type": "stream",
     "text": [
      "81.54351395730716\n"
     ]
    }
   ],
   "source": [
    "assert dot([1, 2, 3], [4, 5, 6]) == 32  # 1 * 4 + 2 * 5 + 3 * 6\n",
    "\n",
    "# why do you think this function is called de_mean?\n",
    "def de_mean(xs: List[float])-> List[float]:\n",
    "    \"\"\" Translate xs by subtracting its mean (so the result has mean 0)\"\"\"\n",
    "    x_bar=mean(xs)\n",
    "    return [x-x_bar for x in xs]\n",
    "\n",
    "def variance(xs: List[float])->float:\n",
    "    \"\"\" Almost the average squared deviation from the mean\"\"\"\n",
    "    assert len(xs)>=2,  \"variance requires at least two elements\"\n",
    "\n",
    "    n = len(xs)\n",
    "    deviations = de_mean(xs)\n",
    "    return sum_of_squares(deviations) / (n - 1)\n",
    "\n",
    "# assert 81.54 < variance(num_friends) < 81.55\n",
    "print(variance(num_friends))"
   ]
  },
  {
   "cell_type": "code",
   "execution_count": 53,
   "id": "a8ae2991-caca-43ed-aa59-ed610e612e10",
   "metadata": {},
   "outputs": [
    {
     "data": {
      "image/png": "[encoded data removed]",
      "text/plain": [
       "<Figure size 1200x600 with 2 Axes>"
      ]
     },
     "metadata": {},
     "output_type": "display_data"
    }
   ],
   "source": [
    "import matplotlib.pyplot as plt\n",
    "\n",
    "# Example data\n",
    "xs = [10, 20, 30, 40, 50]\n",
    "\n",
    "# Calculate the mean\n",
    "x_bar = sum(xs) / len(xs)\n",
    "\n",
    "# De-mean the data\n",
    "demeaned_xs = [x - x_bar for x in xs]\n",
    "\n",
    "# Set the y-axis limits for both plots\n",
    "y_limits = (min(demeaned_xs) - 10, max(xs) + 10)\n",
    "\n",
    "# Plotting the data\n",
    "plt.figure(figsize=(12, 6))\n",
    "\n",
    "# Original data\n",
    "plt.subplot(1, 2, 1)\n",
    "plt.plot(xs, 'bo-', label='Original Data')\n",
    "plt.axhline(y=x_bar, color='r', linestyle='--', label=f'Mean: {x_bar}')\n",
    "plt.ylim(y_limits)\n",
    "plt.title('Original Data')\n",
    "plt.xlabel('Index')\n",
    "plt.ylabel('Value')\n",
    "plt.legend()\n",
    "\n",
    "# De-meaned data\n",
    "plt.subplot(1, 2, 2)\n",
    "plt.plot(demeaned_xs, 'go-', label='De-meaned Data')\n",
    "plt.axhline(y=0, color='r', linestyle='--', label='Mean: 0')\n",
    "plt.ylim(y_limits)\n",
    "plt.title('De-meaned Data')\n",
    "plt.xlabel('Index')\n",
    "plt.ylabel('Value')\n",
    "plt.legend()\n",
    "\n",
    "plt.tight_layout()\n",
    "plt.show()\n"
   ]
  },
  {
   "cell_type": "markdown",
   "id": "4a002bda-58bb-476a-8b26-5c0d2df01525",
   "metadata": {},
   "source": [
    "Basically the whole dataset gets *shifted* below its initial position by mean."
   ]
  },
  {
   "cell_type": "markdown",
   "id": "023a9ecc-108e-4141-955e-0fe86476d4b8",
   "metadata": {},
   "source": [
    "Now, whatever units our data is in (e.g., “friends”), all of our measures of\n",
    "central tendency are in that same unit. The range will similarly be in that\n",
    "same unit. The variance, on the other hand, has units that are the square of\n",
    "the original units (e.g., “friends squared”). As it can be hard to make sense\n",
    "of these, we often look instead at the standard deviation:"
   ]
  },
  {
   "cell_type": "code",
   "execution_count": 45,
   "id": "3d869ea3-2a6b-45b1-a196-fa692a64b2fa",
   "metadata": {},
   "outputs": [],
   "source": [
    "def standard_deviation(xs: List[float])->float:\n",
    "    \"\"\"The standard deviation is the square root of variance\"\"\"\n",
    "    return math.sqrt(variance(xs))\n",
    "\n",
    "assert 9.02 < standard_deviation(num_friends) < 9.04"
   ]
  },
  {
   "cell_type": "markdown",
   "id": "d4f2cef2-8f2f-435e-b35c-d98897ced2cf",
   "metadata": {},
   "source": [
    "**But what's the significance of Standard Deviation?**\n",
    "\n",
    "A large standard deviation indicates that the data points are spread out over a wider range, which means there’s high variability from the mean. Conversely, a small standard deviation means that the data points tend to be closer to the mean, indicating less variability.\n",
    "\n",
    "A standard deviation helps to understand the distribution of data. For instance, in a normal distribution:\n",
    "\n",
    "- About 68% of the data lies within one standard deviation of the mean.\n",
    "- About 95% of the data lies within two standard deviations of the mean.\n",
    "- About 99.7% of the data lies within three standard deviations of the mean."
   ]
  },
  {
   "cell_type": "markdown",
   "id": "18f697bc-a7d3-4944-b098-debc7b07cc18",
   "metadata": {},
   "source": [
    "Both the range and the standard deviation have the same outlier problem that we saw earlier for the mean. Using the same example, if our friendliest\n",
    "user had instead 200 friends, the standard deviation would be 14.89—more\n",
    "than 60% higher!\n",
    "\n",
    "If you think about the outlier problem we're talking about, it is obvious that SD(standard deviation) is prone to that problem because the SD itself is calculated using the mean(which is prone to the outlier problem).\n",
    "\n",
    "A more robust alternative computes the difference between the 75th percentile value and the 25th percentile value, which is quite plainly unaffected by a small number of outliers:"
   ]
  },
  {
   "cell_type": "code",
   "execution_count": 46,
   "id": "2674b081-57b4-4ce0-b0f1-238fb745389f",
   "metadata": {},
   "outputs": [],
   "source": [
    "def interquartile_range(xs: Vector)->float:\n",
    "    \"\"\" Returns the difference between teh 75%-ile and the 25%-ile\"\"\"\n",
    "    return quantile(xs, 0.75) - quantile(xs, 0.25)\n",
    "\n",
    "assert interquartile_range(num_friends)==6"
   ]
  },
  {
   "cell_type": "markdown",
   "id": "edab0943-5cd9-4a30-ac0a-5f261017365d",
   "metadata": {},
   "source": [
    "## Correlation"
   ]
  },
  {
   "cell_type": "markdown",
   "id": "bc670110-7440-4cac-9a18-ba420a9803be",
   "metadata": {},
   "source": [
    "### Covariance"
   ]
  },
  {
   "cell_type": "code",
   "execution_count": 50,
   "id": "295b654d-0ca0-49d7-8173-a3c056a85169",
   "metadata": {},
   "outputs": [],
   "source": [
    "daily_minutes = [1,68.77,51.25,52.08,38.36,44.54,57.13,51.4,41.42,31.22,\n",
    "                 34.76,54.01,38.79,47.59,49.1,27.66,41.03,36.73,48.65,\n",
    "                 28.12,46.62,35.57,32.98,35,26.07,23.77,39.73,40.57,31.65,\n",
    "                 31.21,36.32,20.45,21.93,26.02,27.34,23.49,46.94,30.5,\n",
    "                 33.8,24.23,21.4,27.94,32.24,40.57,25.07,19.42,22.39,18.42,\n",
    "                 46.96,23.72,26.41,26.97,36.76,40.32,35.02,29.47,30.2,31,\n",
    "                 38.11,38.18,36.31,21.03,30.86,36.07,28.66,29.08,37.28,\n",
    "                 15.28,24.17,22.31,30.17,25.53,19.85,35.37,44.6,17.23,\n",
    "                 13.47,26.33,35.02,32.09,24.81,19.33,28.77,24.26,31.98,\n",
    "                 25.73,24.86,16.28,34.51,15.23,39.72,40.8,26.06,35.76,\n",
    "                 34.76,16.13,44.04,18.03,19.65,32.62,35.59,39.43,14.18,\n",
    "                 35.24,40.13,41.82,35.45,36.07,43.67,24.61,20.9,21.9,\n",
    "                 18.79,27.61,27.21,26.61,29.77,20.59,27.53,13.82,33.2,\n",
    "                 25,33.1,36.65,18.63,14.87,22.2,36.81,25.53,24.62,26.25,\n",
    "                 18.21,28.08,19.42,29.79,32.8,35.99,28.32,27.79,35.88,\n",
    "                 29.06,36.28,14.1,36.63,37.49,26.9,18.58,38.48,24.48,\n",
    "                 18.95,33.55,14.24,29.04,32.51,25.63,22.22,19,32.73,15.16,\n",
    "                 13.9,27.2,32.01,29.27,33,13.74,20.42,27.32,18.23,35.35,\n",
    "                 28.48,9.08,24.62,20.12,35.26,19.92,31.02,16.49,12.16,30.7,\n",
    "                 31.22,34.65,13.13,27.51,33.2,31.57,14.1,33.42,17.44,\n",
    "                 10.12,24.42,9.82,23.39,30.93,15.03,21.67,31.09,33.29,\n",
    "                 22.61,26.89,23.48,8.38,27.81,32.35,23.84]\n",
    "daily_hours = [dm / 60 for dm in daily_minutes]\n",
    "\n",
    "def covariance(xs: Vector, ys:Vector)->float:\n",
    "    assert len(xs) == len(ys), \" xs and ys must have same number of elements \"\n",
    "    return dot(de_mean(xs), de_mean(ys)) / (len(xs)-1)\n",
    "\n",
    "assert 22.42 < covariance(num_friends, daily_minutes) < 22.43\n",
    "assert 22.42 / 60 < covariance(num_friends, daily_hours) < 22.43 / 60"
   ]
  },
  {
   "cell_type": "markdown",
   "id": "95e19145-8696-4559-a62e-ad89bb2a1d25",
   "metadata": {},
   "source": [
    "Now, what does covariance tell us?\n",
    "\n",
    "- A positive covariance means that when one variable goes up, the other tends to go up too (or when one goes down, the other tends to go down).\n",
    "- A negative covariance means that when one variable goes up, the other tends to go down (and vice versa).\n",
    "- A covariance close to zero means there's no clear relationship between how the two variables change."
   ]
  },
  {
   "cell_type": "markdown",
   "id": "fe0ac823-f0c5-441d-ba77-8934795b108c",
   "metadata": {},
   "source": [
    "Nonetheless, this number can be hard to interpret, for a couple of reasons:\n",
    "\n",
    "- Its units are the product of the inputs' units  (e.g., friend-minutesper-day), which can be hard to make sense of. (What’s a “friendminute-per-day”?)\n",
    "\n",
    "- If each user had twice as many friends (but the same number of minutes), the covariance would be twice as large. But in a sense, the variables would be just as interrelated. Said differently, it’s hard to say what counts as a “large” covariance."
   ]
  },
  {
   "cell_type": "markdown",
   "id": "64d030dd-c4de-4c5a-b403-e5c4fabb2384",
   "metadata": {},
   "source": [
    "For this reason, it’s more common to look at the correlation, which divides\n",
    "out the standard deviations of both variables:"
   ]
  },
  {
   "cell_type": "code",
   "execution_count": 56,
   "id": "197d1c76-1396-42b4-b291-2f08861c62a0",
   "metadata": {},
   "outputs": [],
   "source": [
    "def correlation(xs: List[float], ys: List[float]) -> float:\n",
    "    \"\"\"Measures how much xs and ys vary in tandem about their means\"\"\"\n",
    "    stdev_x = standard_deviation(xs)\n",
    "    stdev_y = standard_deviation(ys)\n",
    "    if stdev_x > 0 and stdev_y > 0:\n",
    "        return covariance(xs, ys) / stdev_x / stdev_y\n",
    "    else:\n",
    "        return 0 # if no variation, correlation is zero\n",
    "assert 0.24 < correlation(num_friends, daily_minutes) < 0.25\n",
    "assert 0.24 < correlation(num_friends, daily_hours) < 0.25"
   ]
  },
  {
   "cell_type": "markdown",
   "id": "27b44868-f85e-41bd-baae-97db98a5f8e2",
   "metadata": {},
   "source": [
    "The correlation is unitless and always lies between –1 (perfect\n",
    "anticorrelation) and 1 (perfect correlation). A number like 0.25 represents a\n",
    "relatively weak positive correlation."
   ]
  },
  {
   "cell_type": "code",
   "execution_count": 3,
   "id": "2e16b2f1-7281-46a5-ac27-537f4fae1a9c",
   "metadata": {},
   "outputs": [],
   "source": [
    "daily_minutes = [1,68.77,51.25,52.08,38.36,44.54,57.13,51.4,41.42,31.22,\n",
    "                 34.76,54.01,38.79,47.59,49.1,27.66,41.03,36.73,48.65,\n",
    "                 28.12,46.62,35.57,32.98,35,26.07,23.77,39.73,40.57,31.65,\n",
    "                 31.21,36.32,20.45,21.93,26.02,27.34,23.49,46.94,30.5,\n",
    "                 33.8,24.23,21.4,27.94,32.24,40.57,25.07,19.42,22.39,18.42,\n",
    "                 46.96,23.72,26.41,26.97,36.76,40.32,35.02,29.47,30.2,31,\n",
    "                 38.11,38.18,36.31,21.03,30.86,36.07,28.66,29.08,37.28,\n",
    "                 15.28,24.17,22.31,30.17,25.53,19.85,35.37,44.6,17.23,\n",
    "                 13.47,26.33,35.02,32.09,24.81,19.33,28.77,24.26,31.98,\n",
    "                 25.73,24.86,16.28,34.51,15.23,39.72,40.8,26.06,35.76,\n",
    "                 34.76,16.13,44.04,18.03,19.65,32.62,35.59,39.43,14.18,\n",
    "                 35.24,40.13,41.82,35.45,36.07,43.67,24.61,20.9,21.9,\n",
    "                 18.79,27.61,27.21,26.61,29.77,20.59,27.53,13.82,33.2,\n",
    "                 25,33.1,36.65,18.63,14.87,22.2,36.81,25.53,24.62,26.25,\n",
    "                 18.21,28.08,19.42,29.79,32.8,35.99,28.32,27.79,35.88,\n",
    "                 29.06,36.28,14.1,36.63,37.49,26.9,18.58,38.48,24.48,\n",
    "                 18.95,33.55,14.24,29.04,32.51,25.63,22.22,19,32.73,15.16,\n",
    "                 13.9,27.2,32.01,29.27,33,13.74,20.42,27.32,18.23,35.35,\n",
    "                 28.48,9.08,24.62,20.12,35.26,19.92,31.02,16.49,12.16,30.7,\n",
    "                 31.22,34.65,13.13,27.51,33.2,31.57,14.1,33.42,17.44,\n",
    "                 10.12,24.42,9.82,23.39,30.93,15.03,21.67,31.09,33.29,\n",
    "                 22.61,26.89,23.48,8.38,27.81,32.35,23.84]\n",
    "\n",
    "num_friends = [100.0,49,41,40,25,21,21,19,19,18,18,16,15,15,15,15,\n",
    "               14,14,13,13,13,13,12,12,11,10,10,10,10,10,10,10,10,\n",
    "               10,10,10,10,10,10,10,9,9,9,9,9,9,9,9,9,9,9,9,9,9,9,\n",
    "               9,9,9,8,8,8,8,8,8,8,8,8,8,8,8,8,7,7,7,7,7,7,7,7,7,7,\n",
    "               7,7,7,7,7,6,6,6,6,6,6,6,6,6,6,6,6,6,6,6,6,6,6,6,6,6,\n",
    "               6,5,5,5,5,5,5,5,5,5,5,5,5,5,5,5,5,5,4,4,4,4,4,4,4,4,\n",
    "               4,4,4,4,4,4,4,4,4,4,4,4,3,3,3,3,3,3,3,3,3,3,3,3,3,3,\n",
    "               3,3,3,3,3,3,2,2,2,2,2,2,2,2,2,2,2,2,2,2,2,2,2,1,1,1,\n",
    "               1,1,1,1,1,1,1,1,1,1,1,1,1,1,1,1,1,1,1]\n",
    "\n",
    "\n",
    "# give me the code to draw a "
   ]
  }
 ],
 "metadata": {
  "kernelspec": {
   "display_name": "Python 3 (ipykernel)",
   "language": "python",
   "name": "python3"
  },
  "language_info": {
   "codemirror_mode": {
    "name": "ipython",
    "version": 3
   },
   "file_extension": ".py",
   "mimetype": "text/x-python",
   "name": "python",
   "nbconvert_exporter": "python",
   "pygments_lexer": "ipython3",
   "version": "3.11.5"
  }
 },
 "nbformat": 4,
 "nbformat_minor": 5
}
