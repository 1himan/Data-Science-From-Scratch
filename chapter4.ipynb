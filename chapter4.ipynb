{
 "cells": [
  {
   "cell_type": "markdown",
   "id": "60e97ec1-7699-472f-a577-6e629b093dcf",
   "metadata": {},
   "source": [
    "# Linear Algebra"
   ]
  },
  {
   "cell_type": "markdown",
   "id": "e079dc16-18ac-4d46-b327-a3708c6cb2c3",
   "metadata": {},
   "source": [
    "## Vectors"
   ]
  },
  {
   "cell_type": "code",
   "execution_count": 2,
   "id": "32ce3409-ec0d-4a2a-ba9b-54b0ab0ebb38",
   "metadata": {},
   "outputs": [],
   "source": [
    "import math\n",
    "from typing import List,Tuple,Callable"
   ]
  },
  {
   "cell_type": "code",
   "execution_count": 3,
   "id": "8030c5db-4eac-4f4b-8dca-0d41b62bd40a",
   "metadata": {},
   "outputs": [],
   "source": [
    "Vector = List[float]\n",
    "\n",
    "height_weight_age=[70, #inches\n",
    "                   170, #pounds\n",
    "                    40] #years\n",
    "\n",
    "grades = [95,   # exam1 \n",
    "          80,   # exam2 \n",
    "          75,   # exam3 \n",
    "          62 ]  # exam4"
   ]
  },
  {
   "cell_type": "code",
   "execution_count": 4,
   "id": "de9a4239-fb98-4ade-9a4c-a2f4a2bda6c1",
   "metadata": {},
   "outputs": [],
   "source": [
    "def add(v:Vector, w:Vector)-> Vector:\n",
    "    \"\"\"Adds corresponding elements\"\"\"\n",
    "    assert len(v)== len(w), \"vectors must be of same length\"\n",
    "\n",
    "    return [v_i + w_i for v_i, w_i in zip(v,w)] #now I can see through it\n",
    "                                                # I can feel it\n",
    "assert add([1, 2, 3], [4, 5, 6]) == [5, 7, 9], \"addition results are not equal\" \n",
    "    \n",
    "def substract(v:Vector, w:Vector)-> Vector:\n",
    "    \"\"\"Adds corresponding elements\"\"\"\n",
    "    assert len(v)== len(w), \"vectors must be of same length\"\n",
    "    return [v_i-w_i for v_i,w_i in zip(v,w)] \n",
    "\n",
    "assert substract([1, 2, 3], [4, 5, 6]) == [-3, -3, -3] , \"subtraction results are not equal\""
   ]
  },
  {
   "cell_type": "markdown",
   "id": "63caac85-5201-4eac-b158-03635da9c01b",
   "metadata": {},
   "source": [
    "### Summing up a list of vectors"
   ]
  },
  {
   "cell_type": "code",
   "execution_count": 5,
   "id": "09d7e12f-469b-4d2a-895b-401328583046",
   "metadata": {},
   "outputs": [
    {
     "name": "stdout",
     "output_type": "stream",
     "text": [
      "[16, 20]\n"
     ]
    }
   ],
   "source": [
    " def vector_sum(vectors: List[Vector]) -> Vector: \n",
    "    \"\"\"Sums all corresponding elements\"\"\" \n",
    "    # Check that vectors is not empty \n",
    "    assert vectors, \"no vectors provided!\" \n",
    " \n",
    "    # Check the vectors are all the same size \n",
    "    num_elements = len(vectors[0]) \n",
    "    assert all(len(v) == num_elements for v in vectors), \"different sizes!\" \n",
    " \n",
    "    # the i-th element of the result is the sum of every vector[i] \n",
    "    return [sum(vector[i] for vector in vectors) \n",
    "            for i in range(num_elements)]\n",
    "\n",
    "assert vector_sum([[1, 2], [3, 4], [5, 6], [7, 8]]) == [16, 20]\n",
    "print(vector_sum([[1, 2], [3, 4], [5, 6], [7, 8]]))"
   ]
  },
  {
   "cell_type": "markdown",
   "id": "ad5861ae-8fb2-4c2f-92eb-d6373a8eaebb",
   "metadata": {},
   "source": [
    "### Scalar Multiplication"
   ]
  },
  {
   "cell_type": "code",
   "execution_count": 6,
   "id": "6477bb15-f207-4b8f-8ee0-52438581428b",
   "metadata": {},
   "outputs": [],
   "source": [
    "def scalar_multiply(c: float, v:Vector)-> Vector:\n",
    "    \"\"\"Multiplies every element by c\"\"\"\n",
    "    return [c* v_i for v_i in v]\n",
    "assert scalar_multiply(2, [1, 2, 3])==[2,4,6], \"Scalar Multiplication Output Not same\""
   ]
  },
  {
   "cell_type": "markdown",
   "id": "3c634c8a-fbf7-4c80-a247-ca7d18d40815",
   "metadata": {},
   "source": [
    "### Vector Mean"
   ]
  },
  {
   "cell_type": "code",
   "execution_count": 7,
   "id": "8ab335e0-05fd-4c61-96bd-b2088c228324",
   "metadata": {},
   "outputs": [],
   "source": [
    "def vector_mean(vectors: List[Vector])-> Vector:\n",
    "    \"\"\" Computes the element-wise average \"\"\"\n",
    "    n=len(vectors)\n",
    "    return scalar_multiply(1/n, vector_sum(vectors))\n",
    "\n",
    "assert vector_mean([[1, 2], [3, 4], [5, 6]]) == [3, 4] , \"Vector Mean Not the Same\"\n",
    "# in the example above \n",
    "# n=3\n",
    "# scalar_multiply(1/3,vector_sum([[1, 2], [3, 4], [5, 6]])) \n",
    "# vector_sum will return [9, 12] \n",
    "# now after the vector_sum's computation is done scalar_multiply will do its job\n",
    "# scalar_multiply(1/3,[9,12]) \n",
    "# Mathematically, (1/3) is approximately 0.333333333333333. \n",
    "# However, when we multiply this by each element of the summed vector, \n",
    "# we still get the correct average."
   ]
  },
  {
   "cell_type": "markdown",
   "id": "c72953ac-9921-4e79-84e2-2f18b711b8ee",
   "metadata": {},
   "source": [
    "### Dot product"
   ]
  },
  {
   "cell_type": "code",
   "execution_count": 8,
   "id": "db4df26a-2feb-46fb-b7a4-5e8ec6694e4e",
   "metadata": {},
   "outputs": [],
   "source": [
    "def dot(v: Vector, w:Vector)-> float:\n",
    "    \"\"\"Computes v_1 * w_1 + ... + v_n * w_n\"\"\" \n",
    "    assert len(v)==len(w), \"vectors must be of same length\"\n",
    "\n",
    "    return sum(v_i * w_i for v_i, w_i in zip(v, w))\n",
    "\n",
    "assert dot([1, 2, 3], [4, 5, 6]) == 32  # 1 * 4 + 2 * 5 + 3 * 6"
   ]
  },
  {
   "cell_type": "code",
   "execution_count": 9,
   "id": "a62d98f5-6ec5-43a1-ba60-12450c22df00",
   "metadata": {},
   "outputs": [],
   "source": [
    "def sum_of_squares(v:Vector)->float:\n",
    "    \"\"\"Returns v_1 * v_1 + ... + v_n * v_n\"\"\"\n",
    "    return dot(v,v)\n",
    "assert sum_of_squares([1,2,3])==14, \"Sum of squares equality error\""
   ]
  },
  {
   "cell_type": "code",
   "execution_count": 10,
   "id": "66cb2e8f-773d-4fd0-83f7-848dadba1a9e",
   "metadata": {},
   "outputs": [],
   "source": [
    "def magnitude(v:Vector)->float:\n",
    "    \"\"\" Returns the magnitude (or length) of v \"\"\"\n",
    "    # return math.sqrt(sum_of_squares(v))  is as same as\n",
    "    # this\n",
    "    return (sum_of_squares(v))**(1/2)\n",
    "\n",
    "assert magnitude([3,4])==5"
   ]
  },
  {
   "cell_type": "markdown",
   "id": "d73328bb-72ce-40fb-a060-c068ec9200e6",
   "metadata": {},
   "source": [
    "### Distance Between two Vectors"
   ]
  },
  {
   "cell_type": "code",
   "execution_count": 11,
   "id": "f9e5f48c-a9ae-4cb4-97e0-17f0e19e2bda",
   "metadata": {},
   "outputs": [],
   "source": [
    "def squared_distance(v:Vector, w:Vector)->float:\n",
    "    return sum_of_squares(substract(v,w))\n",
    "\n",
    "def distance(v:Vector, w:Vector)->float:\n",
    "    \"\"\"Computes the distance between v and w\"\"\"\n",
    "    return math.sqrt(squared_distance(v,w)) \n",
    "    # or\n",
    "    return magnitude(substract(v,w))"
   ]
  },
  {
   "cell_type": "markdown",
   "id": "fbf52c35-5edc-429a-8f67-345ec443e453",
   "metadata": {},
   "source": [
    "## Matrices"
   ]
  },
  {
   "cell_type": "code",
   "execution_count": 12,
   "id": "c6cfdc09-4b42-4bdb-9116-69e9e68b2759",
   "metadata": {},
   "outputs": [],
   "source": [
    "# Another type alias \n",
    "Matrix = List[List[float]] \n",
    "A = [[1, 2, 3],  # A has 2 rows and 3 columns \n",
    "     [4, 5, 6]]\n",
    "\n",
    "B = [[1, 2],\n",
    "     [3, 4],\n",
    "     [5, 6]] # B has 3 rows and 2 columns "
   ]
  },
  {
   "cell_type": "code",
   "execution_count": 13,
   "id": "a4650cea-56df-4164-a436-143364aaac2f",
   "metadata": {},
   "outputs": [],
   "source": [
    "def shape(A: Matrix)->Tuple[int, int]:\n",
    "    num_rows=len(A)\n",
    "    num_cols=len(A[0]) if A else 0\n",
    "    return num_rows, num_cols\n",
    "\n",
    "assert shape([[1, 2, 3], [4, 5, 6]]) == (2, 3)  # 2 rows, 3 columns"
   ]
  },
  {
   "cell_type": "code",
   "execution_count": 14,
   "id": "993a9e46-c776-408b-90db-cd63b2977186",
   "metadata": {},
   "outputs": [],
   "source": [
    " def get_row(A: Matrix, i: int) -> Vector: \n",
    "    \"\"\"Returns the i-th row of A (as a Vector)\"\"\" \n",
    "    return A[i]             # A[i] is already the ith row \n",
    " \n",
    "def get_column(A: Matrix, j: int) -> Vector: \n",
    "    \"\"\"Returns the j-th column of A (as a Vector)\"\"\" \n",
    "    return [A_i[j]          # jth element of row A_i \n",
    "            for A_i in A]   # for each row A_i"
   ]
  },
  {
   "cell_type": "code",
   "execution_count": 15,
   "id": "3579adf5-af54-4484-bf92-84115165e76f",
   "metadata": {},
   "outputs": [],
   "source": [
    "def make_matrix(num_rows: int, \n",
    "                num_cols: int, \n",
    "                entry_fn: Callable[[int, int], float]) -> Matrix: \n",
    "    \"\"\" \n",
    "    Returns a num_rows x num_cols matrix \n",
    "    whose (i,j)-th entry is entry_fn(i, j) \n",
    "    \"\"\" \n",
    "    return [[entry_fn(i, j)             # given i, create a list \n",
    "             for j in range(num_cols)]  #   [entry_fn(i, 0), ... ] \n",
    "            for i in range(num_rows)]   # create one list for each i"
   ]
  },
  {
   "cell_type": "code",
   "execution_count": 16,
   "id": "64e92583-60c0-406a-a4a1-8ef787915799",
   "metadata": {},
   "outputs": [
    {
     "name": "stdout",
     "output_type": "stream",
     "text": [
      "[[1, 0, 0, 0, 0, 0], [0, 1, 0, 0, 0, 0], [0, 0, 1, 0, 0, 0], [0, 0, 0, 1, 0, 0], [0, 0, 0, 0, 1, 0], [0, 0, 0, 0, 0, 1]]\n"
     ]
    }
   ],
   "source": [
    "def identity_matrix(n:int)-> Matrix:\n",
    "    \"\"\"Returns the n x n identity matrix\"\"\"\n",
    "    return make_matrix(n,n, lambda i, j:1 if i==j else 0)\n",
    "\n",
    "assert identity_matrix(5)==[[1, 0, 0, 0, 0], \n",
    "                            [0, 1, 0, 0, 0], \n",
    "                            [0, 0, 1, 0, 0], \n",
    "                            [0, 0, 0, 1, 0], \n",
    "                            [0, 0, 0, 0, 1]]\n",
    "\n",
    "print(identity_matrix(6))"
   ]
  },
  {
   "cell_type": "code",
   "execution_count": null,
   "id": "d809aed6-8458-4004-9814-ce48a1bf0174",
   "metadata": {},
   "outputs": [],
   "source": []
  }
 ],
 "metadata": {
  "kernelspec": {
   "display_name": "Python 3 (ipykernel)",
   "language": "python",
   "name": "python3"
  },
  "language_info": {
   "codemirror_mode": {
    "name": "ipython",
    "version": 3
   },
   "file_extension": ".py",
   "mimetype": "text/x-python",
   "name": "python",
   "nbconvert_exporter": "python",
   "pygments_lexer": "ipython3",
   "version": "3.11.5"
  }
 },
 "nbformat": 4,
 "nbformat_minor": 5
}
