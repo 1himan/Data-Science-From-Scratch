{
 "cells": [
  {
   "cell_type": "markdown",
   "id": "05f8c8d2-24a2-449f-805c-fd438ccf9379",
   "metadata": {},
   "source": [
    "# Chapter 3 Visualizing Data"
   ]
  },
  {
   "cell_type": "code",
   "execution_count": 2,
   "id": "20cf95bd-0a10-43ce-a6d0-11a2c084dd7b",
   "metadata": {},
   "outputs": [],
   "source": [
    "from matplotlib import pyplot as plt \n",
    "years = [1950, 1960, 1970, 1980, 1990, 2000, 2010] \n",
    "gdp = [300.2, 543.3, 1075.9, 2862.5, 5979.6, 10289.7, 14958.3] \n",
    "# create a line chart, years on x-axis, gdp on y-axis \n",
    "plt.plot(years, gdp, color='green', marker='o', linestyle='solid') \n",
    "# add a title \n",
    "plt.title(\"Nominal GDP\") \n",
    "# add a label to the y-axis \n",
    "plt.ylabel(\"Billions of $\") \n",
    "plt.show()"
   ]
  },
  {
   "cell_type": "code",
   "execution_count": null,
   "id": "cd2e7453-224f-4278-adc4-f45ece9b4d56",
   "metadata": {},
   "outputs": [],
   "source": []
  }
 ],
 "metadata": {
  "kernelspec": {
   "display_name": "Python 3 (ipykernel)",
   "language": "python",
   "name": "python3"
  },
  "language_info": {
   "codemirror_mode": {
    "name": "ipython",
    "version": 3
   },
   "file_extension": ".py",
   "mimetype": "text/x-python",
   "name": "python",
   "nbconvert_exporter": "python",
   "pygments_lexer": "ipython3",
   "version": "3.12.3"
  }
 },
 "nbformat": 4,
 "nbformat_minor": 5
}
