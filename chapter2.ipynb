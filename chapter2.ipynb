{
 "cells": [
  {
   "cell_type": "markdown",
   "id": "11fd7614-d799-4af1-958b-6930e1030b9b",
   "metadata": {},
   "source": [
    "That first line of code (%matplotlib inline) isn’t actually a Python command, but uses something called a line magic to instruct Jupyter to capture Matplotlib plots and render them in the cell output. We'll talk a bit more about line magics later, and they're also covered in our advanced [Jupyter Notebooks tutorial](https://www.dataquest.io/blog/advanced-jupyter-notebooks-tutorial/)."
   ]
  },
  {
   "cell_type": "code",
   "execution_count": 2,
   "id": "bc1ccff1-3833-4b83-a9a0-580963d3d250",
   "metadata": {},
   "outputs": [],
   "source": [
    "from collections import defaultdict\n",
    "from collections import Counter"
   ]
  },
  {
   "cell_type": "code",
   "execution_count": 3,
   "id": "3ee5a573-232c-44e0-b748-f8bb619b181b",
   "metadata": {},
   "outputs": [
    {
     "name": "stdout",
     "output_type": "stream",
     "text": [
      "hello world\n"
     ]
    }
   ],
   "source": [
    "print(\"hello world\")"
   ]
  },
  {
   "cell_type": "markdown",
   "id": "cf27ab64-60ae-4435-bc80-f82aa22c3920",
   "metadata": {},
   "source": [
    "**Function parameters can also be given default arguments, which only need to be specified when you want a value other than the default.** "
   ]
  },
  {
   "cell_type": "code",
   "execution_count": 5,
   "id": "312f38b1-7e39-43fd-9b9b-d440b600842c",
   "metadata": {},
   "outputs": [
    {
     "name": "stdout",
     "output_type": "stream",
     "text": [
      "hello\n",
      "my default message\n"
     ]
    }
   ],
   "source": [
    "def my_print(message = \"my default message\"): \n",
    "    print(message) \n",
    "my_print(\"hello\")   # prints 'hello        \n",
    "# prints 'my default message'\n",
    "my_print()"
   ]
  },
  {
   "cell_type": "markdown",
   "id": "1e2afcb0-11da-4c04-ae40-dbd7a868c877",
   "metadata": {},
   "source": [
    "*You can create multiline strings using three double quotes:*\n"
   ]
  },
  {
   "cell_type": "code",
   "execution_count": 7,
   "id": "dd7c1a02-b734-4747-a5f4-63fc1977fbef",
   "metadata": {},
   "outputs": [],
   "source": [
    "multi_line_string=\"\"\"This is the first line \n",
    "this is the second line\n",
    "and this is the final and the last and the only one of a kind third line\"\"\""
   ]
  },
  {
   "cell_type": "code",
   "execution_count": 8,
   "id": "1080a009-84f9-49d2-9611-1e70e2210beb",
   "metadata": {},
   "outputs": [
    {
     "name": "stdout",
     "output_type": "stream",
     "text": [
      "This is the first line \n",
      "this is the second line\n",
      "and this is the final and the last and the only one of a kind third line\n"
     ]
    }
   ],
   "source": [
    "print(multi_line_string)"
   ]
  },
  {
   "cell_type": "code",
   "execution_count": 9,
   "id": "aba6b2ec-fd44-4f2f-80af-685831155a11",
   "metadata": {},
   "outputs": [
    {
     "name": "stdout",
     "output_type": "stream",
     "text": [
      "Himan Pradhaan\n"
     ]
    }
   ],
   "source": [
    "first_name=\"Himan\"\n",
    "last_name=\"Pradhaan\"\n",
    "full_name=first_name+\" \"+last_name\n",
    "print(full_name)"
   ]
  },
  {
   "cell_type": "markdown",
   "id": "1cf573e1-5812-4bf3-8f38-a91b0cda1ce5",
   "metadata": {},
   "source": [
    "The above was the classical way - string addition but the below is the f-string way which is much less unwieldy:"
   ]
  },
  {
   "cell_type": "code",
   "execution_count": 11,
   "id": "8288bf62-2a02-41ca-9fda-1cded740d644",
   "metadata": {},
   "outputs": [
    {
     "name": "stdout",
     "output_type": "stream",
     "text": [
      "My name is, Himan Pradhaan\n"
     ]
    }
   ],
   "source": [
    "full_name2=f\"My name is, {first_name} {last_name}\"\n",
    "print(full_name2)"
   ]
  },
  {
   "cell_type": "code",
   "execution_count": 12,
   "id": "d0a9e3ee-495a-4fbb-9a57-0530288cfde8",
   "metadata": {},
   "outputs": [
    {
     "name": "stdout",
     "output_type": "stream",
     "text": [
      "Cannot divide by zero\n"
     ]
    }
   ],
   "source": [
    "try:\n",
    "    print(0/0)\n",
    "except ZeroDivisionError:\n",
    "    print(\"Cannot divide by zero\")"
   ]
  },
  {
   "cell_type": "code",
   "execution_count": 13,
   "id": "17b3b521-e766-4eb7-afe0-9a3a29597eca",
   "metadata": {},
   "outputs": [
    {
     "name": "stdout",
     "output_type": "stream",
     "text": [
      "[0, 1, 2]\n",
      "[3, 4, 5, 6, 7, 8, 9]\n",
      "[7, 8, 9]\n",
      "[0, 1, 2, 3, 4, 5, 6]\n"
     ]
    }
   ],
   "source": [
    "x=[0,1,2,3,4,5,6,7,8,9]\n",
    "print(x[:3])\n",
    "print(x[3:])\n",
    "print(x[-3:])\n",
    "print(x[:-3])"
   ]
  },
  {
   "cell_type": "code",
   "execution_count": 14,
   "id": "d5f15f99-a97d-4bd7-842e-4f4ecce14393",
   "metadata": {},
   "outputs": [
    {
     "name": "stdout",
     "output_type": "stream",
     "text": [
      "x is: 1 and y is: 2\n"
     ]
    }
   ],
   "source": [
    "x, y=[1,2]\n",
    "print(\"x is:\",x,\"and y is:\",y)"
   ]
  },
  {
   "cell_type": "code",
   "execution_count": 15,
   "id": "8453a526-8284-4954-8861-1fd32a5e1fd6",
   "metadata": {},
   "outputs": [
    {
     "name": "stdout",
     "output_type": "stream",
     "text": [
      "{'orange': 2, 'apple': 5, 'banana': 4}\n"
     ]
    }
   ],
   "source": [
    "document=[\"orange\",\"apple\",\"apple\", \n",
    "          \"banana\", \"apple\",\"banana\",\"apple\", \n",
    "          \"orange\", \"banana\", \"apple\",\"banana\"]\n",
    "word_counts = {}\n",
    "for word in document:\n",
    "    if word in word_counts:\n",
    "        word_counts[word]+=1\n",
    "    else:\n",
    "        word_counts[word]=1\n",
    "\n",
    "print(word_counts)"
   ]
  },
  {
   "cell_type": "code",
   "execution_count": 16,
   "id": "e4b2653d-7f46-457c-9c3f-873d0470db10",
   "metadata": {},
   "outputs": [
    {
     "name": "stdout",
     "output_type": "stream",
     "text": [
      "{'orange': 2, 'apple': 5, 'banana': 4}\n"
     ]
    }
   ],
   "source": [
    "word_counts={}\n",
    "for word in document:\n",
    "    try:\n",
    "        word_counts[word]+=1\n",
    "    except KeyError:\n",
    "        word_counts[word]=1\n",
    "\n",
    "\n",
    "print(word_counts)"
   ]
  },
  {
   "cell_type": "code",
   "execution_count": 17,
   "id": "7dd15ccb-d876-46e0-b1ab-697962568743",
   "metadata": {},
   "outputs": [
    {
     "name": "stdout",
     "output_type": "stream",
     "text": [
      "{'orange': 2, 'apple': 5, 'banana': 4}\n"
     ]
    }
   ],
   "source": [
    "word_counts={}\n",
    "for word in document:\n",
    "    previous_count=word_counts.get(word,0)\n",
    "    word_counts[word]=previous_count+1\n",
    "print(word_counts)"
   ]
  },
  {
   "cell_type": "markdown",
   "id": "b2057eb6-52ae-4bff-9f42-bb944947c285",
   "metadata": {},
   "source": [
    "When you use `defaultdict`, it includes additional information about the default factory function.\n",
    "\n",
    "- Standard Dictionary `(dict)`: When you print a standard dictionary, it only shows the key-value pairs.\r\n",
    "- `\n",
    "defaultdict`: When you print ` defaultdict`t, it shows the key-value pairs along with the default factory function. This is becaus` defaultdict`t is a subclass o ` dict`t and includes additional information about the default value mechanism."
   ]
  },
  {
   "cell_type": "code",
   "execution_count": 19,
   "id": "5bf7a366-3a74-485a-a4ec-3598d019ddb7",
   "metadata": {},
   "outputs": [
    {
     "name": "stdout",
     "output_type": "stream",
     "text": [
      "defaultdict(<class 'int'>, {'orange': 2, 'apple': 5, 'banana': 4})\n"
     ]
    }
   ],
   "source": [
    "word_counts=defaultdict(int)\n",
    "for word in document:\n",
    "    word_counts[word]+=1\n",
    "print(word_counts)"
   ]
  },
  {
   "cell_type": "code",
   "execution_count": 20,
   "id": "3ae40f70-0890-47ff-8c5e-aa2200f88abf",
   "metadata": {},
   "outputs": [
    {
     "name": "stdout",
     "output_type": "stream",
     "text": [
      "defaultdict(<class 'list'>, {2: [1]})\n"
     ]
    }
   ],
   "source": [
    "dd_list = defaultdict(list)\n",
    "dd_list[2].append(1)\n",
    "print(dd_list)"
   ]
  },
  {
   "cell_type": "code",
   "execution_count": 21,
   "id": "9ff27b4c-4b8e-446e-8610-90bc43301ac3",
   "metadata": {},
   "outputs": [
    {
     "name": "stdout",
     "output_type": "stream",
     "text": [
      "Counter({'apple': 5, 'banana': 4, 'orange': 2})\n"
     ]
    }
   ],
   "source": [
    "c = Counter([0, 1, 2, 0])\n",
    "word_counts=Counter(document)\n",
    "print(word_counts)"
   ]
  },
  {
   "cell_type": "markdown",
   "id": "4876dfb4-ec34-4f8c-8acd-5c00f2bdc02c",
   "metadata": {},
   "source": [
    "Printing the 2 most common words and their counts"
   ]
  },
  {
   "cell_type": "code",
   "execution_count": 23,
   "id": "b51f3e16-55a5-4dbc-a685-d7429cd9a21e",
   "metadata": {},
   "outputs": [
    {
     "name": "stdout",
     "output_type": "stream",
     "text": [
      "apple 5\n",
      "banana 4\n"
     ]
    }
   ],
   "source": [
    "for word, count in word_counts.most_common(2):\n",
    "    print(word, count)"
   ]
  },
  {
   "cell_type": "code",
   "execution_count": 24,
   "id": "7f3599b7-25b7-451b-aaf6-f72119f32313",
   "metadata": {},
   "outputs": [
    {
     "name": "stdout",
     "output_type": "stream",
     "text": [
      "apple 5\n",
      "banana 4\n",
      "orange 2\n"
     ]
    }
   ],
   "source": [
    "pairs = word_counts.most_common(3)\n",
    "\n",
    "# Custom function to simulate the for loop and unpacking process\n",
    "def custom_for_loop(pairs):\n",
    "    for number, letter in pairs:\n",
    "        print(number, letter)\n",
    "\n",
    "# Call the custom function\n",
    "custom_for_loop(pairs)"
   ]
  },
  {
   "cell_type": "code",
   "execution_count": 25,
   "id": "0b100afc-5f3b-4079-add2-09f260e660e0",
   "metadata": {},
   "outputs": [
    {
     "name": "stdout",
     "output_type": "stream",
     "text": [
      "<class 'dict'>\n",
      "{}\n",
      "<class 'set'>\n",
      "{1}\n"
     ]
    }
   ],
   "source": [
    "s={}\n",
    "print(type(s))\n",
    "print(s)\n",
    "s=set()\n",
    "print(type(s))\n",
    "s.add(1)\n",
    "print(s)"
   ]
  },
  {
   "cell_type": "markdown",
   "id": "434adc59-3d77-4f96-b4ae-5a97db21d39f",
   "metadata": {},
   "source": [
    "Sets are good for mainly 2 reason(for our use of course).\n",
    "The first one is that ```in``` is a very fast operation on sets. If we have a large collection of items that we want to use for a membership test, a set is more appropriate than a list:"
   ]
  },
  {
   "cell_type": "code",
   "execution_count": null,
   "id": "5b006f04-c0c2-4b51-bc61-13e6016d7833",
   "metadata": {},
   "outputs": [],
   "source": [
    "stopwords_list=[\"a\", \"an\", \"at\"] + hundreds_of_other_words + [\"yet\", \"you\"]\n",
    "\"zip\" in stopwords_list     # False, but have to check every element\n",
    "stopwords_set = set(stopwords_list) \n",
    "\"zip\" in stopwords_set      # very fast to check"
   ]
  },
  {
   "cell_type": "markdown",
   "id": "59273685-d8d8-43eb-b764-986478dce18f",
   "metadata": {},
   "source": [
    "## Lists vs Sets\n",
    "- Sets: Sets in Python are implemented using hash tables. This allows for average-case constant time complexity, O(1), for membership tests. When you check if an item is in a set, Python computes the hash of the item and directly checks the corresponding position in the hash table.\r",
    "- \n",
    "Lists: Lists in Python are implemented as dynamic arrays. This means that to check if an item is in a list, Python has to iterate through each element of the list until it finds a match. This results in an average-case time complexity of O(n) for membership tests, where n is the number of elements in the list."
   ]
  },
  {
   "cell_type": "markdown",
   "id": "f6d1f123-f3c1-4010-8cad-e5d04ed61d87",
   "metadata": {},
   "source": [
    "#### Let’s compare the performance of membership tests in sets and lists:"
   ]
  },
  {
   "cell_type": "code",
   "execution_count": null,
   "id": "eb2b89dc-1d92-45fa-a140-854e3ab68be9",
   "metadata": {},
   "outputs": [],
   "source": [
    "import time\n",
    "\n",
    "# Create a large list and set\n",
    "large_list = list(range(100000000))\n",
    "large_set = set(range(100000000))\n",
    "\n",
    "# Test membership in list\n",
    "start_time = time.time()\n",
    "99999999 in large_list\n",
    "end_time = time.time()\n",
    "print(\"List membership test took:\", end_time - start_time, \"seconds\")\n",
    "\n",
    "# Test membership in set\n",
    "start_time = time.time()\n",
    "99999999 in large_set\n",
    "end_time = time.time()\n",
    "print(\"Set membership test took:\", end_time - start_time, \"seconds\")"
   ]
  },
  {
   "cell_type": "markdown",
   "id": "3f7b4af3-45c9-4897-93ec-502427e0a91f",
   "metadata": {},
   "source": [
    "#### Sets can only contain distinct elements"
   ]
  },
  {
   "cell_type": "code",
   "execution_count": null,
   "id": "8f147055-752a-4fff-b583-5d699c24106b",
   "metadata": {},
   "outputs": [],
   "source": [
    "item_list = [1, 2, 3, 1, 2, 3]\n",
    "num_items = len(item_list)\n",
    "item_set = set(item_list)\n",
    "num_distinct_items = len(item_set)\n",
    "distinct_item_list = list(item_set)"
   ]
  },
  {
   "cell_type": "markdown",
   "id": "5f66fb31-929f-4dca-b98e-3e1dfff8881a",
   "metadata": {},
   "source": [
    "## Hash Tables"
   ]
  },
  {
   "cell_type": "code",
   "execution_count": null,
   "id": "7500b06c-832e-4179-9431-e9d6a66db5fe",
   "metadata": {},
   "outputs": [],
   "source": [
    "class HashTable:\n",
    "    def __init__(self, size):\n",
    "        self.size = size\n",
    "        self.table = [[] for _ in range(size)]\n",
    "\n",
    "    def hash_function(self, key):\n",
    "        a = hash(key) # a looks something like this 3159519891127782799\n",
    "        return a % self.size\n",
    "\n",
    "    def insert(self, key, value):\n",
    "        index = self.hash_function(key)\n",
    "        for kvp in self.table[index]:\n",
    "            if kvp[0] == key:\n",
    "                kvp[1] = value\n",
    "                return\n",
    "        self.table[index].append([key, value])\n",
    "\n",
    "    def search(self, key):\n",
    "        index = self.hash_function(key)\n",
    "        for kvp in self.table[index]:\n",
    "            if kvp[0] == key:\n",
    "                return kvp[1]\n",
    "        return None\n",
    "\n",
    "    def delete(self, key):\n",
    "        index = self.hash_function(key)\n",
    "        for i, kvp in enumerate(self.table[index]):\n",
    "            if kvp[0] == key:\n",
    "                del self.table[index][i]\n",
    "                return\n",
    "\n",
    "# Example usage\n",
    "hash_table = HashTable(10)\n",
    "hash_table.insert(\"apple\", 1)\n",
    "print(hash_table)\n",
    "hash_table.insert(\"banana\", 2)\n",
    "print(hash_table.search(\"apple\"))  # Output: 1\n",
    "hash_table.delete(\"apple\")\n",
    "print(hash_table.search(\"apple\"))  # Output: None"
   ]
  },
  {
   "cell_type": "code",
   "execution_count": 36,
   "id": "ee678273-da90-4934-83ba-73c64d6f0ae8",
   "metadata": {},
   "outputs": [
    {
     "name": "stdout",
     "output_type": "stream",
     "text": [
      "x is positive\n"
     ]
    }
   ],
   "source": [
    "x = 5\n",
    "assert x > 0, \"x should be positive\"\n",
    "print(\"x is positive\")"
   ]
  },
  {
   "cell_type": "markdown",
   "id": "86ae9a98-712d-481e-a60b-cd5740c984c3",
   "metadata": {},
   "source": [
    "### Object Oriented Programming"
   ]
  },
  {
   "cell_type": "code",
   "execution_count": 64,
   "id": "b4c0a0a5-e20b-4e0c-a30e-4550bb5c0813",
   "metadata": {},
   "outputs": [],
   "source": [
    "class CountingClicker: \n",
    "    \"\"\"A class can/should have a docstring, just like a function\"\"\"\n",
    "    def __init__(self, count=0):\n",
    "        self.count=count\n",
    "\n",
    "    def __repr__(self): \n",
    "        return f\"CountingClicker(count={self.count})\"\n",
    "\n",
    "    \n",
    "    # what is a public API of a class?\n",
    "    def click(self, num_times = 1): \n",
    "        \"\"\"Click the clicker some number of times.\"\"\" \n",
    "        self.count += num_times \n",
    " \n",
    "    def read(self): \n",
    "        return self.count \n",
    " \n",
    "    def reset(self): \n",
    "        self.count = 0"
   ]
  },
  {
   "cell_type": "markdown",
   "id": "fda16318-e46a-4109-b565-fdca9b347634",
   "metadata": {},
   "source": [
    "Writting tests like these help us be confident that our code is working the way we expect it to be (or the way it's designed to), and that it remains doing so whenever we make changes to it."
   ]
  },
  {
   "cell_type": "code",
   "execution_count": 83,
   "id": "1b4cd3ff-d1f8-4b45-82f0-5b509f119e1e",
   "metadata": {},
   "outputs": [],
   "source": [
    "clicker = CountingClicker(0)\n",
    "assert clicker.read() == 0, \"clicker should start with count 0\"\n",
    "clicker.click()\n",
    "clicker.click()\n",
    "assert clicker.read()==2,  \"after two clicks, clicker should have count 2\"\n",
    "clicker.reset()\n",
    "assert clicker.read() ==0 , \"after reset, clicker should be back to 0\""
   ]
  },
  {
   "cell_type": "code",
   "execution_count": 1,
   "id": "365a40f4-0e99-481d-b223-dde8072b4012",
   "metadata": {},
   "outputs": [
    {
     "name": "stdout",
     "output_type": "stream",
     "text": [
      "i: 0\n",
      "i: 1\n",
      "i: 2\n",
      "i: 3\n",
      "i: 4\n",
      "i: 5\n",
      "i: 6\n",
      "i: 7\n",
      "i: 8\n",
      "i: 9\n"
     ]
    }
   ],
   "source": [
    "def generate_range(n):\n",
    "    i=0\n",
    "    while i<n:\n",
    "        yield i #every call to yeild produces a value of the generator\n",
    "        i+=1\n",
    "\n",
    "for i in generate_range(10):\n",
    "    print(f\"i: {i}\")"
   ]
  },
  {
   "cell_type": "code",
   "execution_count": null,
   "id": "51ab40d9-59eb-4052-9cc2-47afde5d3d1f",
   "metadata": {},
   "outputs": [],
   "source": []
  }
 ],
 "metadata": {
  "kernelspec": {
   "display_name": "Python 3 (ipykernel)",
   "language": "python",
   "name": "python3"
  },
  "language_info": {
   "codemirror_mode": {
    "name": "ipython",
    "version": 3
   },
   "file_extension": ".py",
   "mimetype": "text/x-python",
   "name": "python",
   "nbconvert_exporter": "python",
   "pygments_lexer": "ipython3",
   "version": "3.12.3"
  }
 },
 "nbformat": 4,
 "nbformat_minor": 5
}
